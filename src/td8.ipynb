{
 "cells": [
  {
   "cell_type": "code",
   "execution_count": 1,
   "metadata": {},
   "outputs": [],
   "source": [
    "import pandas as pd"
   ]
  },
  {
   "cell_type": "code",
   "execution_count": 2,
   "metadata": {},
   "outputs": [],
   "source": [
    "from model.Document import Document\n",
    "from model.Corpus import Corpus"
   ]
  },
  {
   "cell_type": "code",
   "execution_count": 3,
   "metadata": {},
   "outputs": [],
   "source": [
    "\n",
    "import ipywidgets as widgets\n",
    "from IPython.display import clear_output\n",
    "from model.SearchEngine import SearchEngine\n"
   ]
  },
  {
   "cell_type": "code",
   "execution_count": 5,
   "metadata": {},
   "outputs": [
    {
     "data": {
      "text/html": [
       "<div>\n",
       "<style scoped>\n",
       "    .dataframe tbody tr th:only-of-type {\n",
       "        vertical-align: middle;\n",
       "    }\n",
       "\n",
       "    .dataframe tbody tr th {\n",
       "        vertical-align: top;\n",
       "    }\n",
       "\n",
       "    .dataframe thead th {\n",
       "        text-align: right;\n",
       "    }\n",
       "</style>\n",
       "<table border=\"1\" class=\"dataframe\">\n",
       "  <thead>\n",
       "    <tr style=\"text-align: right;\">\n",
       "      <th></th>\n",
       "      <th>speaker</th>\n",
       "      <th>text</th>\n",
       "      <th>date</th>\n",
       "      <th>descr</th>\n",
       "      <th>link</th>\n",
       "    </tr>\n",
       "  </thead>\n",
       "  <tbody>\n",
       "    <tr>\n",
       "      <th>0</th>\n",
       "      <td>CLINTON</td>\n",
       "      <td>: I'm getting ready for a lot of things, a lot...</td>\n",
       "      <td>April 12, 2015</td>\n",
       "      <td>Video Remarks Announcing Candidacy for President</td>\n",
       "      <td>http://www.presidency.ucsb.edu/ws/index.php?pi...</td>\n",
       "    </tr>\n",
       "    <tr>\n",
       "      <th>1</th>\n",
       "      <td>CLINTON</td>\n",
       "      <td>[ ] : I'll be graduating in May, and on gradua...</td>\n",
       "      <td>April 14, 2015</td>\n",
       "      <td>Remarks in a Question and Answer Session at Ki...</td>\n",
       "      <td>http://www.presidency.ucsb.edu/ws/index.php?pi...</td>\n",
       "    </tr>\n",
       "    <tr>\n",
       "      <th>2</th>\n",
       "      <td>CLINTON</td>\n",
       "      <td>: Well, thank you all so much for inviting me ...</td>\n",
       "      <td>April 20, 2015</td>\n",
       "      <td>Remarks in Keene, New Hampshire</td>\n",
       "      <td>http://www.presidency.ucsb.edu/ws/index.php?pi...</td>\n",
       "    </tr>\n",
       "    <tr>\n",
       "      <th>3</th>\n",
       "      <td>CLINTON</td>\n",
       "      <td>Thank you so much. I am absolutely delighted t...</td>\n",
       "      <td>April 29, 2015</td>\n",
       "      <td>Address to the David N. Dinkins Leadership &amp; P...</td>\n",
       "      <td>http://www.presidency.ucsb.edu/ws/index.php?pi...</td>\n",
       "    </tr>\n",
       "    <tr>\n",
       "      <th>4</th>\n",
       "      <td>CLINTON</td>\n",
       "      <td>Oh, hello. Hi, how are you? Well, it's wonderf...</td>\n",
       "      <td>May 5, 2015</td>\n",
       "      <td>Remarks at a Roundtable with Young Nevada Resi...</td>\n",
       "      <td>http://www.presidency.ucsb.edu/ws/index.php?pi...</td>\n",
       "    </tr>\n",
       "    <tr>\n",
       "      <th>...</th>\n",
       "      <td>...</td>\n",
       "      <td>...</td>\n",
       "      <td>...</td>\n",
       "      <td>...</td>\n",
       "      <td>...</td>\n",
       "    </tr>\n",
       "    <tr>\n",
       "      <th>159</th>\n",
       "      <td>CLINTON</td>\n",
       "      <td>Hello, Pittsburgh! Woah! Hello back there! Tha...</td>\n",
       "      <td>November 7, 2016</td>\n",
       "      <td>Remarks at the University of Pittsburgh</td>\n",
       "      <td>http://www.presidency.ucsb.edu/ws/index.php?pi...</td>\n",
       "    </tr>\n",
       "    <tr>\n",
       "      <th>160</th>\n",
       "      <td>CLINTON</td>\n",
       "      <td>Thank you all! Whoa! Thank you! Thank you. Wel...</td>\n",
       "      <td>November 7, 2016</td>\n",
       "      <td>Remarks at North Carolina State University in ...</td>\n",
       "      <td>http://www.presidency.ucsb.edu/ws/index.php?pi...</td>\n",
       "    </tr>\n",
       "    <tr>\n",
       "      <th>161</th>\n",
       "      <td>CLINTON</td>\n",
       "      <td>Hello Grand Valley! Thank you! Thank you. It i...</td>\n",
       "      <td>November 7, 2016</td>\n",
       "      <td>Remarks at Grand Valley State University in Gr...</td>\n",
       "      <td>http://www.presidency.ucsb.edu/ws/index.php?pi...</td>\n",
       "    </tr>\n",
       "    <tr>\n",
       "      <th>162</th>\n",
       "      <td>TRUMP</td>\n",
       "      <td>Thank you. Thank you very much, everyone. [ ] ...</td>\n",
       "      <td>November 9, 2016</td>\n",
       "      <td>Remarks in New York City Accepting Election as...</td>\n",
       "      <td>http://www.presidency.ucsb.edu/ws/index.php?pi...</td>\n",
       "    </tr>\n",
       "    <tr>\n",
       "      <th>163</th>\n",
       "      <td>CLINTON</td>\n",
       "      <td>My wife, Anne, and I are so proud of Hillary C...</td>\n",
       "      <td>November 9, 2016</td>\n",
       "      <td>Remarks in New York City Conceding the 2016 Pr...</td>\n",
       "      <td>http://www.presidency.ucsb.edu/ws/index.php?pi...</td>\n",
       "    </tr>\n",
       "  </tbody>\n",
       "</table>\n",
       "<p>164 rows × 5 columns</p>\n",
       "</div>"
      ],
      "text/plain": [
       "     speaker                                               text  \\\n",
       "0    CLINTON  : I'm getting ready for a lot of things, a lot...   \n",
       "1    CLINTON  [ ] : I'll be graduating in May, and on gradua...   \n",
       "2    CLINTON  : Well, thank you all so much for inviting me ...   \n",
       "3    CLINTON  Thank you so much. I am absolutely delighted t...   \n",
       "4    CLINTON  Oh, hello. Hi, how are you? Well, it's wonderf...   \n",
       "..       ...                                                ...   \n",
       "159  CLINTON  Hello, Pittsburgh! Woah! Hello back there! Tha...   \n",
       "160  CLINTON  Thank you all! Whoa! Thank you! Thank you. Wel...   \n",
       "161  CLINTON  Hello Grand Valley! Thank you! Thank you. It i...   \n",
       "162    TRUMP  Thank you. Thank you very much, everyone. [ ] ...   \n",
       "163  CLINTON  My wife, Anne, and I are so proud of Hillary C...   \n",
       "\n",
       "                 date                                              descr  \\\n",
       "0      April 12, 2015   Video Remarks Announcing Candidacy for President   \n",
       "1      April 14, 2015  Remarks in a Question and Answer Session at Ki...   \n",
       "2      April 20, 2015                    Remarks in Keene, New Hampshire   \n",
       "3      April 29, 2015  Address to the David N. Dinkins Leadership & P...   \n",
       "4         May 5, 2015  Remarks at a Roundtable with Young Nevada Resi...   \n",
       "..                ...                                                ...   \n",
       "159  November 7, 2016            Remarks at the University of Pittsburgh   \n",
       "160  November 7, 2016  Remarks at North Carolina State University in ...   \n",
       "161  November 7, 2016  Remarks at Grand Valley State University in Gr...   \n",
       "162  November 9, 2016  Remarks in New York City Accepting Election as...   \n",
       "163  November 9, 2016  Remarks in New York City Conceding the 2016 Pr...   \n",
       "\n",
       "                                                  link  \n",
       "0    http://www.presidency.ucsb.edu/ws/index.php?pi...  \n",
       "1    http://www.presidency.ucsb.edu/ws/index.php?pi...  \n",
       "2    http://www.presidency.ucsb.edu/ws/index.php?pi...  \n",
       "3    http://www.presidency.ucsb.edu/ws/index.php?pi...  \n",
       "4    http://www.presidency.ucsb.edu/ws/index.php?pi...  \n",
       "..                                                 ...  \n",
       "159  http://www.presidency.ucsb.edu/ws/index.php?pi...  \n",
       "160  http://www.presidency.ucsb.edu/ws/index.php?pi...  \n",
       "161  http://www.presidency.ucsb.edu/ws/index.php?pi...  \n",
       "162  http://www.presidency.ucsb.edu/ws/index.php?pi...  \n",
       "163  http://www.presidency.ucsb.edu/ws/index.php?pi...  \n",
       "\n",
       "[164 rows x 5 columns]"
      ]
     },
     "execution_count": 5,
     "metadata": {},
     "output_type": "execute_result"
    }
   ],
   "source": [
    "df = pd.read_csv(\"../corpus/discours_US.csv\",sep=\"\\t\")\n",
    "df "
   ]
  },
  {
   "cell_type": "code",
   "execution_count": 6,
   "metadata": {},
   "outputs": [
    {
     "data": {
      "text/plain": [
       "speaker\n",
       "CLINTON    93\n",
       "TRUMP      71\n",
       "Name: count, dtype: int64"
      ]
     },
     "execution_count": 6,
     "metadata": {},
     "output_type": "execute_result"
    }
   ],
   "source": [
    "# La distribution des auteurs des discours\n",
    "df[\"speaker\"].value_counts()"
   ]
  },
  {
   "cell_type": "code",
   "execution_count": 7,
   "metadata": {},
   "outputs": [
    {
     "data": {
      "text/plain": [
       "(164, 5)"
      ]
     },
     "execution_count": 7,
     "metadata": {},
     "output_type": "execute_result"
    }
   ],
   "source": [
    "df.shape"
   ]
  },
  {
   "cell_type": "code",
   "execution_count": 8,
   "metadata": {},
   "outputs": [],
   "source": [
    "corpus = Corpus(\"US_discours\")\n",
    "for i in range(df.shape[0]):\n",
    "    row = df.loc[i,[\"speaker\",\"text\",\"date\",\"link\"]]\n",
    "    text = row[\"text\"]\n",
    "    date = row[\"date\"]\n",
    "    auteur = row[\"speaker\"]\n",
    "    url = row[\"link\"]\n",
    "    phrases = text.split(\".\")\n",
    "    for phrase in phrases:\n",
    "        doc = Document(\"discours\",auteur=auteur,date=date,url=url,texte=phrase)\n",
    "        corpus.add(doc)\n"
   ]
  },
  {
   "cell_type": "code",
   "execution_count": 9,
   "metadata": {},
   "outputs": [
    {
     "data": {
      "text/plain": [
       "'rst I want thank you, Nic'"
      ]
     },
     "execution_count": 9,
     "metadata": {},
     "output_type": "execute_result"
    }
   ],
   "source": [
    "corpus.search(\"thank\",10)"
   ]
  },
  {
   "cell_type": "code",
   "execution_count": 10,
   "metadata": {},
   "outputs": [
    {
     "data": {
      "text/html": [
       "<div>\n",
       "<style scoped>\n",
       "    .dataframe tbody tr th:only-of-type {\n",
       "        vertical-align: middle;\n",
       "    }\n",
       "\n",
       "    .dataframe tbody tr th {\n",
       "        vertical-align: top;\n",
       "    }\n",
       "\n",
       "    .dataframe thead th {\n",
       "        text-align: right;\n",
       "    }\n",
       "</style>\n",
       "<table border=\"1\" class=\"dataframe\">\n",
       "  <thead>\n",
       "    <tr style=\"text-align: right;\">\n",
       "      <th></th>\n",
       "      <th>contexte gauche</th>\n",
       "      <th>motif trouve</th>\n",
       "      <th>contexte droit</th>\n",
       "    </tr>\n",
       "  </thead>\n",
       "  <tbody>\n",
       "    <tr>\n",
       "      <th>0</th>\n",
       "      <td>nd a half</td>\n",
       "      <td>W</td>\n",
       "      <td>ow That's</td>\n",
       "    </tr>\n",
       "    <tr>\n",
       "      <th>1</th>\n",
       "      <td>nks Great</td>\n",
       "      <td>W</td>\n",
       "      <td>ell, first</td>\n",
       "    </tr>\n",
       "    <tr>\n",
       "      <th>2</th>\n",
       "      <td>of money</td>\n",
       "      <td>W</td>\n",
       "      <td>e're got t</td>\n",
       "    </tr>\n",
       "    <tr>\n",
       "      <th>3</th>\n",
       "      <td>do this?</td>\n",
       "      <td>W</td>\n",
       "      <td>hat motiva</td>\n",
       "    </tr>\n",
       "    <tr>\n",
       "      <th>4</th>\n",
       "      <td>o forward</td>\n",
       "      <td>W</td>\n",
       "      <td>hen I got</td>\n",
       "    </tr>\n",
       "    <tr>\n",
       "      <th>...</th>\n",
       "      <td>...</td>\n",
       "      <td>...</td>\n",
       "      <td>...</td>\n",
       "    </tr>\n",
       "    <tr>\n",
       "      <th>5435</th>\n",
       "      <td>g-hearted</td>\n",
       "      <td>W</td>\n",
       "      <td>e have see</td>\n",
       "    </tr>\n",
       "    <tr>\n",
       "      <th>5436</th>\n",
       "      <td>president</td>\n",
       "      <td>W</td>\n",
       "      <td>e owe him</td>\n",
       "    </tr>\n",
       "    <tr>\n",
       "      <th>5437</th>\n",
       "      <td>xpression</td>\n",
       "      <td>W</td>\n",
       "      <td>e respect</td>\n",
       "    </tr>\n",
       "    <tr>\n",
       "      <th>5438</th>\n",
       "      <td>ir dreams</td>\n",
       "      <td>W</td>\n",
       "      <td>e've spent</td>\n",
       "    </tr>\n",
       "    <tr>\n",
       "      <th>5439</th>\n",
       "      <td>gratitude</td>\n",
       "      <td>W</td>\n",
       "      <td>e — we tha</td>\n",
       "    </tr>\n",
       "  </tbody>\n",
       "</table>\n",
       "<p>5440 rows × 3 columns</p>\n",
       "</div>"
      ],
      "text/plain": [
       "     contexte gauche motif trouve contexte droit\n",
       "0         nd a half             W     ow That's \n",
       "1         nks Great             W     ell, first\n",
       "2          of money             W     e're got t\n",
       "3          do this?             W     hat motiva\n",
       "4         o forward             W     hen I got \n",
       "...              ...          ...            ...\n",
       "5435      g-hearted             W     e have see\n",
       "5436      president             W     e owe him \n",
       "5437      xpression             W     e respect \n",
       "5438      ir dreams             W     e've spent\n",
       "5439      gratitude             W     e — we tha\n",
       "\n",
       "[5440 rows x 3 columns]"
      ]
     },
     "execution_count": 10,
     "metadata": {},
     "output_type": "execute_result"
    }
   ],
   "source": [
    "corpus.concorde(\"W\",10)"
   ]
  },
  {
   "cell_type": "code",
   "execution_count": 13,
   "metadata": {},
   "outputs": [],
   "source": [
    "search_engine = SearchEngine(corpus)\n",
    "result_df = search_engine.search(\"president\", top_k=5)\n",
    "result_df"
   ]
  },
  {
   "cell_type": "code",
   "execution_count": 16,
   "metadata": {},
   "outputs": [
    {
     "data": {
      "application/vnd.jupyter.widget-view+json": {
       "model_id": "2de3a29c800946f689679274fec21185",
       "version_major": 2,
       "version_minor": 0
      },
      "text/plain": [
       "VBox(children=(HTML(value=\"<h1 style='text-align: center;'>Moteur de recherche</h1>\", placeholder=''), Text(va…"
      ]
     },
     "metadata": {},
     "output_type": "display_data"
    }
   ],
   "source": [
    "import ipywidgets as widgets\n",
    "from IPython.display import display\n",
    "\n",
    "\n",
    "title = widgets.HTML(\n",
    "    value=\"<h1 style='text-align: center;'>Moteur de recherche</h1>\",\n",
    "    placeholder='',\n",
    "    description='',\n",
    ")\n",
    "\n",
    "\n",
    "texte = widgets.Text(\n",
    "    value='',\n",
    "    placeholder='Type something',\n",
    "    description='Mots clés:',\n",
    "    disabled=False,\n",
    ")\n",
    "\n",
    "\n",
    "slider = widgets.IntSlider(\n",
    "    value=7,\n",
    "    min=0,\n",
    "    max=10,\n",
    "    step=1,\n",
    "    description='Test:',\n",
    "    disabled=False,\n",
    "    continuous_update=False,\n",
    "    orientation='horizontal',\n",
    "    readout=True,\n",
    "    readout_format='d',\n",
    "    \n",
    ")\n",
    "\n",
    "\n",
    "button = widgets.Button(\n",
    "    description='Rechercher',\n",
    "    disabled=False,\n",
    "    button_style='', \n",
    "    tooltip='Click me',\n",
    "    icon='check',\n",
    ")\n",
    "output = widgets.Output(\n",
    "    layout=widgets.Layout(\n",
    "        width='80%',\n",
    "        border='1px solid black',\n",
    "        padding='10px'\n",
    "    )\n",
    ")\n",
    "\n",
    "container = widgets.VBox(\n",
    "    [title, texte, slider, button,output],\n",
    "    layout=widgets.Layout(\n",
    "        align_items='center', \n",
    "        justify_content='center', \n",
    "        width='100%' \n",
    "    )\n",
    ")\n",
    "\n",
    "\n",
    "\n",
    "display(container)\n"
   ]
  },
  {
   "cell_type": "code",
   "execution_count": 15,
   "metadata": {},
   "outputs": [],
   "source": [
    "def clique_bouton(b):\n",
    " \n",
    "    mots_cles = texte.value.strip()  \n",
    "    nb_documents = slider.value      \n",
    "    \n",
    "    with output:\n",
    "        output.clear_output()\n",
    "        \n",
    "        \n",
    "        if not mots_cles:\n",
    "            print(\"Veuillez entrer des mots-clés pour effectuer une recherche.\")\n",
    "            return\n",
    "        \n",
    "        \n",
    "        try:\n",
    "            \n",
    "            results = SearchEngine(corpus).search(mots_cles,nb_documents)\n",
    "            \n",
    "            if results:\n",
    "                for idx, result in enumerate(results, start=1):\n",
    "                    print(f\"{idx}. {result}\")\n",
    "            else:\n",
    "                print(\"Aucun résultat trouvé.\")\n",
    "        \n",
    "        except Exception as e:\n",
    "            print(f\"Erreur lors de la recherche : {e}\")\n"
   ]
  },
  {
   "cell_type": "code",
   "execution_count": 13,
   "metadata": {},
   "outputs": [],
   "source": [
    "button.on_click(clique_bouton)"
   ]
  }
 ],
 "metadata": {
  "kernelspec": {
   "display_name": ".venv",
   "language": "python",
   "name": "python3"
  },
  "language_info": {
   "codemirror_mode": {
    "name": "ipython",
    "version": 3
   },
   "file_extension": ".py",
   "mimetype": "text/x-python",
   "name": "python",
   "nbconvert_exporter": "python",
   "pygments_lexer": "ipython3",
   "version": "3.12.7"
  }
 },
 "nbformat": 4,
 "nbformat_minor": 2
}
