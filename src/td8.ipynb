{
 "cells": [
  {
   "cell_type": "code",
   "execution_count": 2,
   "metadata": {},
   "outputs": [],
   "source": [
    "import pandas as pd\n",
    "from model.Document import Document\n",
    "from model.Corpus import Corpus\n",
    "import ipywidgets as widgets\n",
    "from IPython.display import clear_output\n",
    "from model.SearchEngine import SearchEngine\n"
   ]
  },
  {
   "cell_type": "code",
   "execution_count": 3,
   "metadata": {},
   "outputs": [
    {
     "data": {
      "text/html": [
       "<div>\n",
       "<style scoped>\n",
       "    .dataframe tbody tr th:only-of-type {\n",
       "        vertical-align: middle;\n",
       "    }\n",
       "\n",
       "    .dataframe tbody tr th {\n",
       "        vertical-align: top;\n",
       "    }\n",
       "\n",
       "    .dataframe thead th {\n",
       "        text-align: right;\n",
       "    }\n",
       "</style>\n",
       "<table border=\"1\" class=\"dataframe\">\n",
       "  <thead>\n",
       "    <tr style=\"text-align: right;\">\n",
       "      <th></th>\n",
       "      <th>speaker</th>\n",
       "      <th>text</th>\n",
       "      <th>date</th>\n",
       "      <th>descr</th>\n",
       "      <th>link</th>\n",
       "    </tr>\n",
       "  </thead>\n",
       "  <tbody>\n",
       "    <tr>\n",
       "      <th>0</th>\n",
       "      <td>CLINTON</td>\n",
       "      <td>: I'm getting ready for a lot of things, a lot...</td>\n",
       "      <td>April 12, 2015</td>\n",
       "      <td>Video Remarks Announcing Candidacy for President</td>\n",
       "      <td>http://www.presidency.ucsb.edu/ws/index.php?pi...</td>\n",
       "    </tr>\n",
       "    <tr>\n",
       "      <th>1</th>\n",
       "      <td>CLINTON</td>\n",
       "      <td>[ ] : I'll be graduating in May, and on gradua...</td>\n",
       "      <td>April 14, 2015</td>\n",
       "      <td>Remarks in a Question and Answer Session at Ki...</td>\n",
       "      <td>http://www.presidency.ucsb.edu/ws/index.php?pi...</td>\n",
       "    </tr>\n",
       "    <tr>\n",
       "      <th>2</th>\n",
       "      <td>CLINTON</td>\n",
       "      <td>: Well, thank you all so much for inviting me ...</td>\n",
       "      <td>April 20, 2015</td>\n",
       "      <td>Remarks in Keene, New Hampshire</td>\n",
       "      <td>http://www.presidency.ucsb.edu/ws/index.php?pi...</td>\n",
       "    </tr>\n",
       "    <tr>\n",
       "      <th>3</th>\n",
       "      <td>CLINTON</td>\n",
       "      <td>Thank you so much. I am absolutely delighted t...</td>\n",
       "      <td>April 29, 2015</td>\n",
       "      <td>Address to the David N. Dinkins Leadership &amp; P...</td>\n",
       "      <td>http://www.presidency.ucsb.edu/ws/index.php?pi...</td>\n",
       "    </tr>\n",
       "    <tr>\n",
       "      <th>4</th>\n",
       "      <td>CLINTON</td>\n",
       "      <td>Oh, hello. Hi, how are you? Well, it's wonderf...</td>\n",
       "      <td>May 5, 2015</td>\n",
       "      <td>Remarks at a Roundtable with Young Nevada Resi...</td>\n",
       "      <td>http://www.presidency.ucsb.edu/ws/index.php?pi...</td>\n",
       "    </tr>\n",
       "    <tr>\n",
       "      <th>5</th>\n",
       "      <td>CLINTON</td>\n",
       "      <td>Thank you. Wow. Thank you. I am thrilled to be...</td>\n",
       "      <td>May 18, 2015</td>\n",
       "      <td>Remarks at a Campaign Event in Mason City, Iowa</td>\n",
       "      <td>http://www.presidency.ucsb.edu/ws/index.php?pi...</td>\n",
       "    </tr>\n",
       "    <tr>\n",
       "      <th>6</th>\n",
       "      <td>CLINTON</td>\n",
       "      <td>Well first let me thank all of you in particul...</td>\n",
       "      <td>May 19, 2015</td>\n",
       "      <td>Remarks in Cedar Falls, Iowa</td>\n",
       "      <td>http://www.presidency.ucsb.edu/ws/index.php?pi...</td>\n",
       "    </tr>\n",
       "    <tr>\n",
       "      <th>7</th>\n",
       "      <td>CLINTON</td>\n",
       "      <td>Wow, what a great way to begin and to all of y...</td>\n",
       "      <td>May 20, 2015</td>\n",
       "      <td>Remarks in Chicago, Illinois</td>\n",
       "      <td>http://www.presidency.ucsb.edu/ws/index.php?pi...</td>\n",
       "    </tr>\n",
       "    <tr>\n",
       "      <th>8</th>\n",
       "      <td>CLINTON</td>\n",
       "      <td>Well, this is so exciting, to be here with all...</td>\n",
       "      <td>May 27, 2015</td>\n",
       "      <td>Remarks to the Democratic Women's Council in C...</td>\n",
       "      <td>http://www.presidency.ucsb.edu/ws/index.php?pi...</td>\n",
       "    </tr>\n",
       "    <tr>\n",
       "      <th>9</th>\n",
       "      <td>CLINTON</td>\n",
       "      <td>Wow! Thank you so very much. I cannot tell you...</td>\n",
       "      <td>June 4, 2015</td>\n",
       "      <td>Remarks at Texas Southern University in Houston</td>\n",
       "      <td>http://www.presidency.ucsb.edu/ws/index.php?pi...</td>\n",
       "    </tr>\n",
       "  </tbody>\n",
       "</table>\n",
       "</div>"
      ],
      "text/plain": [
       "   speaker                                               text            date  \\\n",
       "0  CLINTON  : I'm getting ready for a lot of things, a lot...  April 12, 2015   \n",
       "1  CLINTON  [ ] : I'll be graduating in May, and on gradua...  April 14, 2015   \n",
       "2  CLINTON  : Well, thank you all so much for inviting me ...  April 20, 2015   \n",
       "3  CLINTON  Thank you so much. I am absolutely delighted t...  April 29, 2015   \n",
       "4  CLINTON  Oh, hello. Hi, how are you? Well, it's wonderf...     May 5, 2015   \n",
       "5  CLINTON  Thank you. Wow. Thank you. I am thrilled to be...    May 18, 2015   \n",
       "6  CLINTON  Well first let me thank all of you in particul...    May 19, 2015   \n",
       "7  CLINTON  Wow, what a great way to begin and to all of y...    May 20, 2015   \n",
       "8  CLINTON  Well, this is so exciting, to be here with all...    May 27, 2015   \n",
       "9  CLINTON  Wow! Thank you so very much. I cannot tell you...    June 4, 2015   \n",
       "\n",
       "                                               descr  \\\n",
       "0   Video Remarks Announcing Candidacy for President   \n",
       "1  Remarks in a Question and Answer Session at Ki...   \n",
       "2                    Remarks in Keene, New Hampshire   \n",
       "3  Address to the David N. Dinkins Leadership & P...   \n",
       "4  Remarks at a Roundtable with Young Nevada Resi...   \n",
       "5    Remarks at a Campaign Event in Mason City, Iowa   \n",
       "6                       Remarks in Cedar Falls, Iowa   \n",
       "7                       Remarks in Chicago, Illinois   \n",
       "8  Remarks to the Democratic Women's Council in C...   \n",
       "9    Remarks at Texas Southern University in Houston   \n",
       "\n",
       "                                                link  \n",
       "0  http://www.presidency.ucsb.edu/ws/index.php?pi...  \n",
       "1  http://www.presidency.ucsb.edu/ws/index.php?pi...  \n",
       "2  http://www.presidency.ucsb.edu/ws/index.php?pi...  \n",
       "3  http://www.presidency.ucsb.edu/ws/index.php?pi...  \n",
       "4  http://www.presidency.ucsb.edu/ws/index.php?pi...  \n",
       "5  http://www.presidency.ucsb.edu/ws/index.php?pi...  \n",
       "6  http://www.presidency.ucsb.edu/ws/index.php?pi...  \n",
       "7  http://www.presidency.ucsb.edu/ws/index.php?pi...  \n",
       "8  http://www.presidency.ucsb.edu/ws/index.php?pi...  \n",
       "9  http://www.presidency.ucsb.edu/ws/index.php?pi...  "
      ]
     },
     "execution_count": 3,
     "metadata": {},
     "output_type": "execute_result"
    }
   ],
   "source": [
    "df = pd.read_csv(\"../corpus/discours_US.csv\",sep=\"\\t\")[:10]\n",
    "df "
   ]
  },
  {
   "cell_type": "code",
   "execution_count": 9,
   "metadata": {},
   "outputs": [
    {
     "data": {
      "text/plain": [
       "speaker\n",
       "CLINTON    93\n",
       "TRUMP      71\n",
       "Name: count, dtype: int64"
      ]
     },
     "execution_count": 9,
     "metadata": {},
     "output_type": "execute_result"
    }
   ],
   "source": [
    "# La distribution des auteurs des discours\n",
    "df[\"speaker\"].value_counts()"
   ]
  },
  {
   "cell_type": "code",
   "execution_count": 7,
   "metadata": {},
   "outputs": [
    {
     "data": {
      "text/plain": [
       "(164, 5)"
      ]
     },
     "execution_count": 7,
     "metadata": {},
     "output_type": "execute_result"
    }
   ],
   "source": [
    "df.shape"
   ]
  },
  {
   "cell_type": "code",
   "execution_count": 4,
   "metadata": {},
   "outputs": [],
   "source": [
    "corpus = Corpus(\"US_discours\")\n",
    "for i in range(df.shape[0]):\n",
    "    row = df.loc[i,[\"speaker\",\"text\",\"date\",\"link\"]]\n",
    "    text = row[\"text\"]\n",
    "    date = row[\"date\"]\n",
    "    auteur = row[\"speaker\"]\n",
    "    url = row[\"link\"]\n",
    "    phrases = text.split(\".\")\n",
    "    for phrase in phrases:\n",
    "        doc = Document(\"discours\",auteur=auteur,date=date,url=url,texte=phrase)\n",
    "        corpus.add(doc)\n"
   ]
  },
  {
   "cell_type": "code",
   "execution_count": 5,
   "metadata": {},
   "outputs": [
    {
     "data": {
      "text/plain": [
       "'rst I want thank you, Nic'"
      ]
     },
     "execution_count": 5,
     "metadata": {},
     "output_type": "execute_result"
    }
   ],
   "source": [
    "corpus.search(\"thank\",10)"
   ]
  },
  {
   "cell_type": "code",
   "execution_count": 6,
   "metadata": {},
   "outputs": [
    {
     "data": {
      "text/html": [
       "<div>\n",
       "<style scoped>\n",
       "    .dataframe tbody tr th:only-of-type {\n",
       "        vertical-align: middle;\n",
       "    }\n",
       "\n",
       "    .dataframe tbody tr th {\n",
       "        vertical-align: top;\n",
       "    }\n",
       "\n",
       "    .dataframe thead th {\n",
       "        text-align: right;\n",
       "    }\n",
       "</style>\n",
       "<table border=\"1\" class=\"dataframe\">\n",
       "  <thead>\n",
       "    <tr style=\"text-align: right;\">\n",
       "      <th></th>\n",
       "      <th>contexte gauche</th>\n",
       "      <th>motif trouve</th>\n",
       "      <th>contexte droit</th>\n",
       "    </tr>\n",
       "  </thead>\n",
       "  <tbody>\n",
       "    <tr>\n",
       "      <th>0</th>\n",
       "      <td>ools  And</td>\n",
       "      <td>thanks</td>\n",
       "      <td>to your g</td>\n",
       "    </tr>\n",
       "    <tr>\n",
       "      <th>1</th>\n",
       "      <td>develop,</td>\n",
       "      <td>thanks</td>\n",
       "      <td>to all th</td>\n",
       "    </tr>\n",
       "    <tr>\n",
       "      <th>2</th>\n",
       "      <td>today and</td>\n",
       "      <td>thanks</td>\n",
       "      <td>to Bike T</td>\n",
       "    </tr>\n",
       "  </tbody>\n",
       "</table>\n",
       "</div>"
      ],
      "text/plain": [
       "  contexte gauche motif trouve contexte droit\n",
       "0      ools  And        thanks      to your g\n",
       "1       develop,        thanks      to all th\n",
       "2      today and        thanks      to Bike T"
      ]
     },
     "execution_count": 6,
     "metadata": {},
     "output_type": "execute_result"
    }
   ],
   "source": [
    "corpus.concorde(\"thanks\",10)"
   ]
  },
  {
   "cell_type": "code",
   "execution_count": 8,
   "metadata": {},
   "outputs": [
    {
     "name": "stdout",
     "output_type": "stream",
     "text": [
      "QUERY [[0. 0. 0. ... 0. 0. 0.]]\n",
      "[  31   27  795 ...   18   17 1600]\n"
     ]
    },
    {
     "data": {
      "text/plain": [
       "[Titre : discours\tAuteur : CLINTON\tDate : April 14, 2015\tURL : http://www.presidency.ucsb.edu/ws/index.php?pid=110044\tTexte :  And before we get started — because I want to hear from each of you, I want more information about what you see as challenges as students and educators and the opportunities you hope to take advantage of — I just want to tell you a little bit about why I'm here today\t,\n",
       " Titre : discours\tAuteur : CLINTON\tDate : April 14, 2015\tURL : http://www.presidency.ucsb.edu/ws/index.php?pid=110044\tTexte :  I got to talk with the instructor and four of the students, all of whom are high school students who are doing what you have described as the great opportunity to mix your high school years with college learning and college credits as you move forward\t]"
      ]
     },
     "execution_count": 8,
     "metadata": {},
     "output_type": "execute_result"
    }
   ],
   "source": [
    "search_engine = SearchEngine(corpus)\n",
    "result_df = search_engine.search(\"students educators\", top_k=2)\n",
    "result_df"
   ]
  },
  {
   "cell_type": "code",
   "execution_count": 9,
   "metadata": {},
   "outputs": [
    {
     "ename": "AttributeError",
     "evalue": "'Corpus' object has no attribute '_searchString'",
     "output_type": "error",
     "traceback": [
      "\u001b[0;31m---------------------------------------------------------------------------\u001b[0m",
      "\u001b[0;31mAttributeError\u001b[0m                            Traceback (most recent call last)",
      "Cell \u001b[0;32mIn[9], line 3\u001b[0m\n\u001b[1;32m      1\u001b[0m \u001b[38;5;28;01mfrom\u001b[39;00m\u001b[38;5;250m \u001b[39m\u001b[38;5;21;01mTD3_6\u001b[39;00m\u001b[38;5;250m \u001b[39m\u001b[38;5;28;01mimport\u001b[39;00m load_corpus\n\u001b[1;32m      2\u001b[0m corpus_2 \u001b[38;5;241m=\u001b[39m load_corpus(filename\u001b[38;5;241m=\u001b[39m\u001b[38;5;124m\"\u001b[39m\u001b[38;5;124m../corpus/corpus.pkl\u001b[39m\u001b[38;5;124m\"\u001b[39m)\n\u001b[0;32m----> 3\u001b[0m search_engine \u001b[38;5;241m=\u001b[39m \u001b[43mSearchEngine\u001b[49m\u001b[43m(\u001b[49m\u001b[43mcorpus_2\u001b[49m\u001b[43m)\u001b[49m\n\u001b[1;32m      4\u001b[0m result_df \u001b[38;5;241m=\u001b[39m search_engine\u001b[38;5;241m.\u001b[39msearch(\u001b[38;5;124m\"\u001b[39m\u001b[38;5;124mchina cases\u001b[39m\u001b[38;5;124m\"\u001b[39m, top_k\u001b[38;5;241m=\u001b[39m\u001b[38;5;241m5\u001b[39m)\n\u001b[1;32m      5\u001b[0m result_df\n",
      "File \u001b[0;32m~/Documents/GitHub/search-engine/src/model/SearchEngine.py:9\u001b[0m, in \u001b[0;36mSearchEngine.__init__\u001b[0;34m(self, corpus)\u001b[0m\n\u001b[1;32m      7\u001b[0m \u001b[38;5;28;01mdef\u001b[39;00m\u001b[38;5;250m \u001b[39m\u001b[38;5;21m__init__\u001b[39m(\u001b[38;5;28mself\u001b[39m, corpus):\n\u001b[1;32m      8\u001b[0m     \u001b[38;5;28mself\u001b[39m\u001b[38;5;241m.\u001b[39mcorpus \u001b[38;5;241m=\u001b[39m corpus\n\u001b[0;32m----> 9\u001b[0m     \u001b[38;5;28mself\u001b[39m\u001b[38;5;241m.\u001b[39mvocab \u001b[38;5;241m=\u001b[39m \u001b[38;5;28;43mself\u001b[39;49m\u001b[38;5;241;43m.\u001b[39;49m\u001b[43mbuild_vocab\u001b[49m\u001b[43m(\u001b[49m\u001b[43m)\u001b[49m\n",
      "File \u001b[0;32m~/Documents/GitHub/search-engine/src/model/SearchEngine.py:13\u001b[0m, in \u001b[0;36mSearchEngine.build_vocab\u001b[0;34m(self)\u001b[0m\n\u001b[1;32m     11\u001b[0m \u001b[38;5;28;01mdef\u001b[39;00m\u001b[38;5;250m \u001b[39m\u001b[38;5;21mbuild_vocab\u001b[39m(\u001b[38;5;28mself\u001b[39m):\n\u001b[1;32m     12\u001b[0m \u001b[38;5;250m    \u001b[39m\u001b[38;5;124;03m\"\"\"Construit le vocabulaire à partir du corpus.\"\"\"\u001b[39;00m\n\u001b[0;32m---> 13\u001b[0m     vocab \u001b[38;5;241m=\u001b[39m \u001b[38;5;28;43mself\u001b[39;49m\u001b[38;5;241;43m.\u001b[39;49m\u001b[43mcorpus\u001b[49m\u001b[38;5;241;43m.\u001b[39;49m\u001b[43mgenererFreq\u001b[49m\u001b[43m(\u001b[49m\u001b[43m)\u001b[49m\u001b[38;5;241m.\u001b[39mto_dict(orient\u001b[38;5;241m=\u001b[39m\u001b[38;5;124m\"\u001b[39m\u001b[38;5;124mindex\u001b[39m\u001b[38;5;124m\"\u001b[39m)\n\u001b[1;32m     14\u001b[0m     \u001b[38;5;28;01mreturn\u001b[39;00m vocab\n",
      "File \u001b[0;32m~/Documents/GitHub/search-engine/src/model/Corpus.py:130\u001b[0m, in \u001b[0;36mCorpus.genererFreq\u001b[0;34m(self)\u001b[0m\n\u001b[1;32m    129\u001b[0m \u001b[38;5;28;01mdef\u001b[39;00m\u001b[38;5;250m \u001b[39m\u001b[38;5;21mgenererFreq\u001b[39m(\u001b[38;5;28mself\u001b[39m):\n\u001b[0;32m--> 130\u001b[0m     \u001b[38;5;28;43mself\u001b[39;49m\u001b[38;5;241;43m.\u001b[39;49m\u001b[43mbuildSearchString\u001b[49m\u001b[43m(\u001b[49m\u001b[43m)\u001b[49m\n\u001b[1;32m    131\u001b[0m     \u001b[38;5;28mself\u001b[39m\u001b[38;5;241m.\u001b[39mgenerer_vocabulaire()\n\u001b[1;32m    132\u001b[0m     \u001b[38;5;28mid\u001b[39m\u001b[38;5;241m=\u001b[39m\u001b[38;5;241m0\u001b[39m\n",
      "File \u001b[0;32m~/Documents/GitHub/search-engine/src/model/Corpus.py:50\u001b[0m, in \u001b[0;36mCorpus.buildSearchString\u001b[0;34m(self)\u001b[0m\n\u001b[1;32m     49\u001b[0m \u001b[38;5;28;01mdef\u001b[39;00m\u001b[38;5;250m \u001b[39m\u001b[38;5;21mbuildSearchString\u001b[39m(\u001b[38;5;28mself\u001b[39m):\n\u001b[0;32m---> 50\u001b[0m     \u001b[38;5;28;01mif\u001b[39;00m \u001b[38;5;129;01mnot\u001b[39;00m \u001b[38;5;28;43mself\u001b[39;49m\u001b[38;5;241;43m.\u001b[39;49m\u001b[43m_searchString\u001b[49m:\n\u001b[1;32m     51\u001b[0m         textes \u001b[38;5;241m=\u001b[39m [\u001b[38;5;28mself\u001b[39m\u001b[38;5;241m.\u001b[39mid2doc[i]\u001b[38;5;241m.\u001b[39mtexte \u001b[38;5;28;01mfor\u001b[39;00m i \u001b[38;5;129;01min\u001b[39;00m \u001b[38;5;28mrange\u001b[39m(\u001b[38;5;241m1\u001b[39m, \u001b[38;5;28mself\u001b[39m\u001b[38;5;241m.\u001b[39mndoc \u001b[38;5;241m+\u001b[39m \u001b[38;5;241m1\u001b[39m)]\n\u001b[1;32m     52\u001b[0m         \u001b[38;5;28mself\u001b[39m\u001b[38;5;241m.\u001b[39m_searchString \u001b[38;5;241m=\u001b[39m \u001b[38;5;124m\"\u001b[39m\u001b[38;5;124m \u001b[39m\u001b[38;5;124m\"\u001b[39m\u001b[38;5;241m.\u001b[39mjoin(textes)\n",
      "\u001b[0;31mAttributeError\u001b[0m: 'Corpus' object has no attribute '_searchString'"
     ]
    }
   ],
   "source": [
    "from TD3_6 import load_corpus\n",
    "corpus_2 = load_corpus(filename=\"../corpus/corpus.pkl\")\n",
    "search_engine = SearchEngine(corpus_2)\n",
    "result_df = search_engine.search(\"china cases\", top_k=5)\n",
    "result_df"
   ]
  },
  {
   "cell_type": "code",
   "execution_count": 21,
   "metadata": {},
   "outputs": [
    {
     "data": {
      "application/vnd.jupyter.widget-view+json": {
       "model_id": "edd14099a5c948aeb61496d5116088f8",
       "version_major": 2,
       "version_minor": 0
      },
      "text/plain": [
       "VBox(children=(HTML(value=\"<h1 style='text-align: center;'>Moteur de recherche</h1>\", placeholder=''), Text(va…"
      ]
     },
     "metadata": {},
     "output_type": "display_data"
    }
   ],
   "source": [
    "import ipywidgets as widgets\n",
    "from IPython.display import display\n",
    "\n",
    "\n",
    "title = widgets.HTML(\n",
    "    value=\"<h1 style='text-align: center;'>Moteur de recherche</h1>\",\n",
    "    placeholder='',\n",
    "    description='',\n",
    ")\n",
    "\n",
    "\n",
    "texte = widgets.Text(\n",
    "    value='',\n",
    "    placeholder='Type something',\n",
    "    description='Mots clés:',\n",
    "    disabled=False,\n",
    ")\n",
    "\n",
    "\n",
    "slider = widgets.IntSlider(\n",
    "    value=7,\n",
    "    min=0,\n",
    "    max=10,\n",
    "    step=1,\n",
    "    description='Test:',\n",
    "    disabled=False,\n",
    "    continuous_update=False,\n",
    "    orientation='horizontal',\n",
    "    readout=True,\n",
    "    readout_format='d',\n",
    "    \n",
    ")\n",
    "\n",
    "\n",
    "button = widgets.Button(\n",
    "    description='Rechercher',\n",
    "    disabled=False,\n",
    "    button_style='', \n",
    "    tooltip='Click me',\n",
    "    icon='check',\n",
    ")\n",
    "output = widgets.Output(\n",
    "    layout=widgets.Layout(\n",
    "        width='80%',\n",
    "        border='1px solid black',\n",
    "        padding='10px'\n",
    "    )\n",
    ")\n",
    "\n",
    "container = widgets.VBox(\n",
    "    [title, texte, slider, button,output],\n",
    "    layout=widgets.Layout(\n",
    "        align_items='center', \n",
    "        justify_content='center', \n",
    "        width='100%' \n",
    "    )\n",
    ")\n",
    "\n",
    "\n",
    "\n",
    "display(container)\n"
   ]
  },
  {
   "cell_type": "code",
   "execution_count": 19,
   "metadata": {},
   "outputs": [],
   "source": [
    "def clique_bouton(b):\n",
    " \n",
    "    mots_cles = texte.value.strip()  \n",
    "    nb_documents = slider.value      \n",
    "    \n",
    "    with output:\n",
    "        output.clear_output()\n",
    "        \n",
    "        \n",
    "        if not mots_cles:\n",
    "            print(\"Veuillez entrer des mots-clés pour effectuer une recherche.\")\n",
    "            return\n",
    "        \n",
    "        \n",
    "        try:\n",
    "            \n",
    "            results = search_engine.search(mots_cles,nb_documents)\n",
    "            \n",
    "            if results:\n",
    "                for idx, result in enumerate(results, start=1):\n",
    "                    print(f\"{idx}. {result}\")\n",
    "            else:\n",
    "                print(\"Aucun résultat trouvé.\")\n",
    "        \n",
    "        except Exception as e:\n",
    "            print(f\"Erreur lors de la recherche : {e}\")\n"
   ]
  },
  {
   "cell_type": "code",
   "execution_count": 20,
   "metadata": {},
   "outputs": [],
   "source": [
    "button.on_click(clique_bouton)"
   ]
  }
 ],
 "metadata": {
  "kernelspec": {
   "display_name": ".venv",
   "language": "python",
   "name": "python3"
  },
  "language_info": {
   "codemirror_mode": {
    "name": "ipython",
    "version": 3
   },
   "file_extension": ".py",
   "mimetype": "text/x-python",
   "name": "python",
   "nbconvert_exporter": "python",
   "pygments_lexer": "ipython3",
   "version": "3.12.7"
  }
 },
 "nbformat": 4,
 "nbformat_minor": 2
}
