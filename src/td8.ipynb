{
 "cells": [
  {
   "cell_type": "code",
   "execution_count": 1,
   "metadata": {},
   "outputs": [],
   "source": [
    "import pandas as pd\n",
    "from model.Document import Document\n",
    "from model.Corpus import Corpus\n",
    "import ipywidgets as widgets\n",
    "from IPython.display import clear_output\n",
    "from model.SearchEngine import SearchEngine"
   ]
  },
  {
   "cell_type": "markdown",
   "metadata": {},
   "source": [
    "# TESTS "
   ]
  },
  {
   "cell_type": "code",
   "execution_count": 2,
   "metadata": {},
   "outputs": [
    {
     "data": {
      "text/html": [
       "<div>\n",
       "<style scoped>\n",
       "    .dataframe tbody tr th:only-of-type {\n",
       "        vertical-align: middle;\n",
       "    }\n",
       "\n",
       "    .dataframe tbody tr th {\n",
       "        vertical-align: top;\n",
       "    }\n",
       "\n",
       "    .dataframe thead th {\n",
       "        text-align: right;\n",
       "    }\n",
       "</style>\n",
       "<table border=\"1\" class=\"dataframe\">\n",
       "  <thead>\n",
       "    <tr style=\"text-align: right;\">\n",
       "      <th></th>\n",
       "      <th>speaker</th>\n",
       "      <th>text</th>\n",
       "      <th>date</th>\n",
       "      <th>descr</th>\n",
       "      <th>link</th>\n",
       "    </tr>\n",
       "  </thead>\n",
       "  <tbody>\n",
       "    <tr>\n",
       "      <th>0</th>\n",
       "      <td>CLINTON</td>\n",
       "      <td>: I'm getting ready for a lot of things, a lot...</td>\n",
       "      <td>April 12, 2015</td>\n",
       "      <td>Video Remarks Announcing Candidacy for President</td>\n",
       "      <td>http://www.presidency.ucsb.edu/ws/index.php?pi...</td>\n",
       "    </tr>\n",
       "    <tr>\n",
       "      <th>1</th>\n",
       "      <td>CLINTON</td>\n",
       "      <td>[ ] : I'll be graduating in May, and on gradua...</td>\n",
       "      <td>April 14, 2015</td>\n",
       "      <td>Remarks in a Question and Answer Session at Ki...</td>\n",
       "      <td>http://www.presidency.ucsb.edu/ws/index.php?pi...</td>\n",
       "    </tr>\n",
       "    <tr>\n",
       "      <th>2</th>\n",
       "      <td>CLINTON</td>\n",
       "      <td>: Well, thank you all so much for inviting me ...</td>\n",
       "      <td>April 20, 2015</td>\n",
       "      <td>Remarks in Keene, New Hampshire</td>\n",
       "      <td>http://www.presidency.ucsb.edu/ws/index.php?pi...</td>\n",
       "    </tr>\n",
       "    <tr>\n",
       "      <th>3</th>\n",
       "      <td>CLINTON</td>\n",
       "      <td>Thank you so much. I am absolutely delighted t...</td>\n",
       "      <td>April 29, 2015</td>\n",
       "      <td>Address to the David N. Dinkins Leadership &amp; P...</td>\n",
       "      <td>http://www.presidency.ucsb.edu/ws/index.php?pi...</td>\n",
       "    </tr>\n",
       "    <tr>\n",
       "      <th>4</th>\n",
       "      <td>CLINTON</td>\n",
       "      <td>Oh, hello. Hi, how are you? Well, it's wonderf...</td>\n",
       "      <td>May 5, 2015</td>\n",
       "      <td>Remarks at a Roundtable with Young Nevada Resi...</td>\n",
       "      <td>http://www.presidency.ucsb.edu/ws/index.php?pi...</td>\n",
       "    </tr>\n",
       "    <tr>\n",
       "      <th>5</th>\n",
       "      <td>CLINTON</td>\n",
       "      <td>Thank you. Wow. Thank you. I am thrilled to be...</td>\n",
       "      <td>May 18, 2015</td>\n",
       "      <td>Remarks at a Campaign Event in Mason City, Iowa</td>\n",
       "      <td>http://www.presidency.ucsb.edu/ws/index.php?pi...</td>\n",
       "    </tr>\n",
       "    <tr>\n",
       "      <th>6</th>\n",
       "      <td>CLINTON</td>\n",
       "      <td>Well first let me thank all of you in particul...</td>\n",
       "      <td>May 19, 2015</td>\n",
       "      <td>Remarks in Cedar Falls, Iowa</td>\n",
       "      <td>http://www.presidency.ucsb.edu/ws/index.php?pi...</td>\n",
       "    </tr>\n",
       "    <tr>\n",
       "      <th>7</th>\n",
       "      <td>CLINTON</td>\n",
       "      <td>Wow, what a great way to begin and to all of y...</td>\n",
       "      <td>May 20, 2015</td>\n",
       "      <td>Remarks in Chicago, Illinois</td>\n",
       "      <td>http://www.presidency.ucsb.edu/ws/index.php?pi...</td>\n",
       "    </tr>\n",
       "    <tr>\n",
       "      <th>8</th>\n",
       "      <td>CLINTON</td>\n",
       "      <td>Well, this is so exciting, to be here with all...</td>\n",
       "      <td>May 27, 2015</td>\n",
       "      <td>Remarks to the Democratic Women's Council in C...</td>\n",
       "      <td>http://www.presidency.ucsb.edu/ws/index.php?pi...</td>\n",
       "    </tr>\n",
       "    <tr>\n",
       "      <th>9</th>\n",
       "      <td>CLINTON</td>\n",
       "      <td>Wow! Thank you so very much. I cannot tell you...</td>\n",
       "      <td>June 4, 2015</td>\n",
       "      <td>Remarks at Texas Southern University in Houston</td>\n",
       "      <td>http://www.presidency.ucsb.edu/ws/index.php?pi...</td>\n",
       "    </tr>\n",
       "  </tbody>\n",
       "</table>\n",
       "</div>"
      ],
      "text/plain": [
       "   speaker                                               text            date  \\\n",
       "0  CLINTON  : I'm getting ready for a lot of things, a lot...  April 12, 2015   \n",
       "1  CLINTON  [ ] : I'll be graduating in May, and on gradua...  April 14, 2015   \n",
       "2  CLINTON  : Well, thank you all so much for inviting me ...  April 20, 2015   \n",
       "3  CLINTON  Thank you so much. I am absolutely delighted t...  April 29, 2015   \n",
       "4  CLINTON  Oh, hello. Hi, how are you? Well, it's wonderf...     May 5, 2015   \n",
       "5  CLINTON  Thank you. Wow. Thank you. I am thrilled to be...    May 18, 2015   \n",
       "6  CLINTON  Well first let me thank all of you in particul...    May 19, 2015   \n",
       "7  CLINTON  Wow, what a great way to begin and to all of y...    May 20, 2015   \n",
       "8  CLINTON  Well, this is so exciting, to be here with all...    May 27, 2015   \n",
       "9  CLINTON  Wow! Thank you so very much. I cannot tell you...    June 4, 2015   \n",
       "\n",
       "                                               descr  \\\n",
       "0   Video Remarks Announcing Candidacy for President   \n",
       "1  Remarks in a Question and Answer Session at Ki...   \n",
       "2                    Remarks in Keene, New Hampshire   \n",
       "3  Address to the David N. Dinkins Leadership & P...   \n",
       "4  Remarks at a Roundtable with Young Nevada Resi...   \n",
       "5    Remarks at a Campaign Event in Mason City, Iowa   \n",
       "6                       Remarks in Cedar Falls, Iowa   \n",
       "7                       Remarks in Chicago, Illinois   \n",
       "8  Remarks to the Democratic Women's Council in C...   \n",
       "9    Remarks at Texas Southern University in Houston   \n",
       "\n",
       "                                                link  \n",
       "0  http://www.presidency.ucsb.edu/ws/index.php?pi...  \n",
       "1  http://www.presidency.ucsb.edu/ws/index.php?pi...  \n",
       "2  http://www.presidency.ucsb.edu/ws/index.php?pi...  \n",
       "3  http://www.presidency.ucsb.edu/ws/index.php?pi...  \n",
       "4  http://www.presidency.ucsb.edu/ws/index.php?pi...  \n",
       "5  http://www.presidency.ucsb.edu/ws/index.php?pi...  \n",
       "6  http://www.presidency.ucsb.edu/ws/index.php?pi...  \n",
       "7  http://www.presidency.ucsb.edu/ws/index.php?pi...  \n",
       "8  http://www.presidency.ucsb.edu/ws/index.php?pi...  \n",
       "9  http://www.presidency.ucsb.edu/ws/index.php?pi...  "
      ]
     },
     "execution_count": 2,
     "metadata": {},
     "output_type": "execute_result"
    }
   ],
   "source": [
    "df = pd.read_csv(\"../corpus/discours_US.csv\",sep=\"\\t\")[:10]\n",
    "df "
   ]
  },
  {
   "cell_type": "code",
   "execution_count": 3,
   "metadata": {},
   "outputs": [
    {
     "data": {
      "text/plain": [
       "speaker\n",
       "CLINTON    10\n",
       "Name: count, dtype: int64"
      ]
     },
     "execution_count": 3,
     "metadata": {},
     "output_type": "execute_result"
    }
   ],
   "source": [
    "# La distribution des auteurs des discours\n",
    "df[\"speaker\"].value_counts()"
   ]
  },
  {
   "cell_type": "code",
   "execution_count": 4,
   "metadata": {},
   "outputs": [
    {
     "data": {
      "text/plain": [
       "(10, 5)"
      ]
     },
     "execution_count": 4,
     "metadata": {},
     "output_type": "execute_result"
    }
   ],
   "source": [
    "df.shape"
   ]
  },
  {
   "cell_type": "code",
   "execution_count": 5,
   "metadata": {},
   "outputs": [],
   "source": [
    "corpus = Corpus(\"US_discours\")\n",
    "for i in range(df.shape[0]):\n",
    "    row = df.loc[i,[\"speaker\",\"text\",\"date\",\"link\"]]\n",
    "    text = row[\"text\"]\n",
    "    date = row[\"date\"]\n",
    "    auteur = row[\"speaker\"]\n",
    "    url = row[\"link\"]\n",
    "    phrases = text.split(\".\")\n",
    "    for phrase in phrases:\n",
    "        doc = Document(\"discours\",auteur=auteur,date=date,url=url,texte=phrase)\n",
    "        corpus.add(doc)\n"
   ]
  },
  {
   "cell_type": "code",
   "execution_count": 6,
   "metadata": {},
   "outputs": [
    {
     "data": {
      "text/plain": [
       "'rst I want thank you, Nic'"
      ]
     },
     "execution_count": 6,
     "metadata": {},
     "output_type": "execute_result"
    }
   ],
   "source": [
    "corpus.search(\"thank\",10)"
   ]
  },
  {
   "cell_type": "code",
   "execution_count": 7,
   "metadata": {},
   "outputs": [
    {
     "data": {
      "text/html": [
       "<div>\n",
       "<style scoped>\n",
       "    .dataframe tbody tr th:only-of-type {\n",
       "        vertical-align: middle;\n",
       "    }\n",
       "\n",
       "    .dataframe tbody tr th {\n",
       "        vertical-align: top;\n",
       "    }\n",
       "\n",
       "    .dataframe thead th {\n",
       "        text-align: right;\n",
       "    }\n",
       "</style>\n",
       "<table border=\"1\" class=\"dataframe\">\n",
       "  <thead>\n",
       "    <tr style=\"text-align: right;\">\n",
       "      <th></th>\n",
       "      <th>contexte gauche</th>\n",
       "      <th>motif trouve</th>\n",
       "      <th>contexte droit</th>\n",
       "    </tr>\n",
       "  </thead>\n",
       "  <tbody>\n",
       "    <tr>\n",
       "      <th>0</th>\n",
       "      <td>ools  And</td>\n",
       "      <td>thanks</td>\n",
       "      <td>to your g</td>\n",
       "    </tr>\n",
       "    <tr>\n",
       "      <th>1</th>\n",
       "      <td>develop,</td>\n",
       "      <td>thanks</td>\n",
       "      <td>to all th</td>\n",
       "    </tr>\n",
       "    <tr>\n",
       "      <th>2</th>\n",
       "      <td>today and</td>\n",
       "      <td>thanks</td>\n",
       "      <td>to Bike T</td>\n",
       "    </tr>\n",
       "  </tbody>\n",
       "</table>\n",
       "</div>"
      ],
      "text/plain": [
       "  contexte gauche motif trouve contexte droit\n",
       "0      ools  And        thanks      to your g\n",
       "1       develop,        thanks      to all th\n",
       "2      today and        thanks      to Bike T"
      ]
     },
     "execution_count": 7,
     "metadata": {},
     "output_type": "execute_result"
    }
   ],
   "source": [
    "corpus.concorde(\"thanks\",10)"
   ]
  },
  {
   "cell_type": "code",
   "execution_count": 8,
   "metadata": {},
   "outputs": [
    {
     "data": {
      "application/vnd.jupyter.widget-view+json": {
       "model_id": "88f1ba26b3b545a5a5666aeef19882e4",
       "version_major": 2,
       "version_minor": 0
      },
      "text/plain": [
       "Recherche en cours ...:   0%|          | 0/1608 [00:00<?, ?it/s]"
      ]
     },
     "metadata": {},
     "output_type": "display_data"
    },
    {
     "data": {
      "text/html": [
       "<div>\n",
       "<style scoped>\n",
       "    .dataframe tbody tr th:only-of-type {\n",
       "        vertical-align: middle;\n",
       "    }\n",
       "\n",
       "    .dataframe tbody tr th {\n",
       "        vertical-align: top;\n",
       "    }\n",
       "\n",
       "    .dataframe thead th {\n",
       "        text-align: right;\n",
       "    }\n",
       "</style>\n",
       "<table border=\"1\" class=\"dataframe\">\n",
       "  <thead>\n",
       "    <tr style=\"text-align: right;\">\n",
       "      <th></th>\n",
       "      <th>0</th>\n",
       "    </tr>\n",
       "  </thead>\n",
       "  <tbody>\n",
       "    <tr>\n",
       "      <th>0</th>\n",
       "      <td>discours, par CLINTON</td>\n",
       "    </tr>\n",
       "    <tr>\n",
       "      <th>1</th>\n",
       "      <td>discours, par CLINTON</td>\n",
       "    </tr>\n",
       "  </tbody>\n",
       "</table>\n",
       "</div>"
      ],
      "text/plain": [
       "                       0\n",
       "0  discours, par CLINTON\n",
       "1  discours, par CLINTON"
      ]
     },
     "execution_count": 8,
     "metadata": {},
     "output_type": "execute_result"
    }
   ],
   "source": [
    "search_engine = SearchEngine(corpus)\n",
    "result_df = search_engine.search(\"students educators\", top_k=2)\n",
    "result_df"
   ]
  },
  {
   "cell_type": "code",
   "execution_count": 9,
   "metadata": {},
   "outputs": [
    {
     "data": {
      "application/vnd.jupyter.widget-view+json": {
       "model_id": "39ce41e034cf434692fd8f16b91dc5ac",
       "version_major": 2,
       "version_minor": 0
      },
      "text/plain": [
       "Recherche en cours ...:   0%|          | 0/150 [00:00<?, ?it/s]"
      ]
     },
     "metadata": {},
     "output_type": "display_data"
    },
    {
     "data": {
      "text/html": [
       "<div>\n",
       "<style scoped>\n",
       "    .dataframe tbody tr th:only-of-type {\n",
       "        vertical-align: middle;\n",
       "    }\n",
       "\n",
       "    .dataframe tbody tr th {\n",
       "        vertical-align: top;\n",
       "    }\n",
       "\n",
       "    .dataframe thead th {\n",
       "        text-align: right;\n",
       "    }\n",
       "</style>\n",
       "<table border=\"1\" class=\"dataframe\">\n",
       "  <thead>\n",
       "    <tr style=\"text-align: right;\">\n",
       "      <th></th>\n",
       "      <th>0</th>\n",
       "    </tr>\n",
       "  </thead>\n",
       "  <tbody>\n",
       "    <tr>\n",
       "      <th>0</th>\n",
       "      <td>Forecast of the evolution of the contagious di...</td>\n",
       "    </tr>\n",
       "    <tr>\n",
       "      <th>1</th>\n",
       "      <td>First attempts to model the dynamics of the Co...</td>\n",
       "    </tr>\n",
       "    <tr>\n",
       "      <th>2</th>\n",
       "      <td>The Second Worldwide Wave of Interest in Coron...</td>\n",
       "    </tr>\n",
       "    <tr>\n",
       "      <th>3</th>\n",
       "      <td>A mathematical model for the coronavirus COVID...</td>\n",
       "    </tr>\n",
       "    <tr>\n",
       "      <th>4</th>\n",
       "      <td>Novel Coronavirus COVID-19 Strike on Arab Coun...</td>\n",
       "    </tr>\n",
       "  </tbody>\n",
       "</table>\n",
       "</div>"
      ],
      "text/plain": [
       "                                                   0\n",
       "0  Forecast of the evolution of the contagious di...\n",
       "1  First attempts to model the dynamics of the Co...\n",
       "2  The Second Worldwide Wave of Interest in Coron...\n",
       "3  A mathematical model for the coronavirus COVID...\n",
       "4  Novel Coronavirus COVID-19 Strike on Arab Coun..."
      ]
     },
     "execution_count": 9,
     "metadata": {},
     "output_type": "execute_result"
    }
   ],
   "source": [
    "from td_3_4_5 import load_corpus\n",
    "corpus_2 = load_corpus(filename=\"../corpus/corpus.pkl\")\n",
    "search_engine = SearchEngine(corpus_2)\n",
    "result_df = search_engine.search(\"china cases\", top_k=5)\n",
    "result_df"
   ]
  },
  {
   "cell_type": "markdown",
   "metadata": {},
   "source": [
    "# INTERFACE"
   ]
  },
  {
   "cell_type": "code",
   "execution_count": 10,
   "metadata": {},
   "outputs": [
    {
     "data": {
      "application/vnd.jupyter.widget-view+json": {
       "model_id": "0a382114f02f407cb896780290d0ef4d",
       "version_major": 2,
       "version_minor": 0
      },
      "text/plain": [
       "VBox(children=(HTML(value=\"<h1 style='text-align: center;'>Moteur de recherche</h1>\", placeholder=''), Text(va…"
      ]
     },
     "metadata": {},
     "output_type": "display_data"
    }
   ],
   "source": [
    "import ipywidgets as widgets\n",
    "from IPython.display import display\n",
    "\n",
    "\n",
    "title = widgets.HTML(\n",
    "    value=\"<h1 style='text-align: center;'>Moteur de recherche</h1>\",\n",
    "    placeholder='',\n",
    "    description='',\n",
    ")\n",
    "\n",
    "\n",
    "texte = widgets.Text(\n",
    "    value='',\n",
    "    placeholder='Type something',\n",
    "    description='Mots clés:',\n",
    "    disabled=False,\n",
    ")\n",
    "\n",
    "\n",
    "slider = widgets.IntSlider(\n",
    "    value=7,\n",
    "    min=0,\n",
    "    max=10,\n",
    "    step=1,\n",
    "    description='Test:',\n",
    "    disabled=False,\n",
    "    continuous_update=False,\n",
    "    orientation='horizontal',\n",
    "    readout=True,\n",
    "    readout_format='d',\n",
    "    \n",
    ")\n",
    "\n",
    "\n",
    "button = widgets.Button(\n",
    "    description='Rechercher',\n",
    "    disabled=False,\n",
    "    button_style='', \n",
    "    tooltip='Click me',\n",
    "    icon='check',\n",
    ")\n",
    "output = widgets.Output(\n",
    "    layout=widgets.Layout(\n",
    "        width='80%',\n",
    "        border='1px solid black',\n",
    "        padding='10px',\n",
    "    )\n",
    ")\n",
    "\n",
    "container = widgets.VBox(\n",
    "    [title, texte, slider, button,output],\n",
    "    layout=widgets.Layout(\n",
    "        align_items='center', \n",
    "        justify_content='center', \n",
    "        width='100%' \n",
    "    )\n",
    ")\n",
    "\n",
    "\n",
    "\n",
    "display(container)\n"
   ]
  },
  {
   "cell_type": "code",
   "execution_count": 11,
   "metadata": {},
   "outputs": [],
   "source": [
    "from tqdm.notebook import tqdm\n",
    "# Définition de la fonction de déclenchement de la recherche\n",
    "def clique_bouton(b):\n",
    " \n",
    "    mots_cles = texte.value.strip()  \n",
    "    nb_documents = slider.value    \n",
    "    from td_3_4_5 import load_corpus\n",
    "    corpus = load_corpus(filename=\"../corpus/corpus.pkl\")\n",
    "    search_engine = SearchEngine(corpus)\n",
    "    \n",
    "    \n",
    "    with output:\n",
    "        # On vide le contenu de la zone de sortie\n",
    "        output.clear_output()\n",
    "        \n",
    "        \n",
    "        if not mots_cles:\n",
    "            print(\"Veuillez entrer des mots-clés pour effectuer une recherche.\")\n",
    "            return\n",
    "        \n",
    "        \n",
    "        try:\n",
    "            \n",
    "            result_df = search_engine.search(mots_cles, top_k=nb_documents)\n",
    "            \n",
    "            if(result_df.shape[0]==0):\n",
    "                print(\"Aucun document trouvé\")\n",
    "                return\n",
    "            for i in range(result_df.shape[0]):\n",
    "                print(f\"==================== {i+1} ========================= \")\n",
    "                \n",
    "                # Affichage des résultats dans la sortie\n",
    "                display(widgets.HTML(f\"\"\"\n",
    "                <div style=\"word-wrap: break-word; white-space: normal; overflow:auto;\">\n",
    "                    {result_df.iloc[i][0].__repr__()}  <!-- Assure-toi d'accéder correctement à chaque résultat -->\n",
    "                </div>\n",
    "                \"\"\"))\n",
    "        except Exception as e:\n",
    "            print(f\"Erreur lors de la recherche : {e}\")\n"
   ]
  },
  {
   "cell_type": "code",
   "execution_count": 12,
   "metadata": {},
   "outputs": [],
   "source": [
    "button.on_click(clique_bouton)"
   ]
  }
 ],
 "metadata": {
  "kernelspec": {
   "display_name": "base",
   "language": "python",
   "name": "python3"
  },
  "language_info": {
   "codemirror_mode": {
    "name": "ipython",
    "version": 3
   },
   "file_extension": ".py",
   "mimetype": "text/x-python",
   "name": "python",
   "nbconvert_exporter": "python",
   "pygments_lexer": "ipython3",
   "version": "3.11.5"
  }
 },
 "nbformat": 4,
 "nbformat_minor": 2
}
