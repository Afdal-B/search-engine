{
 "cells": [
  {
   "cell_type": "code",
   "execution_count": 2,
   "metadata": {},
   "outputs": [],
   "source": [
    "import pandas as pd\n",
    "from Document import Document\n",
    "from Corpus import Corpus\n",
    "import ipywidgets as widgets\n",
    "from IPython.display import clear_output\n",
    "from SearchEngine import SearchEngine"
   ]
  },
  {
   "cell_type": "code",
   "execution_count": 3,
   "metadata": {},
   "outputs": [
    {
     "data": {
      "text/html": [
       "<div>\n",
       "<style scoped>\n",
       "    .dataframe tbody tr th:only-of-type {\n",
       "        vertical-align: middle;\n",
       "    }\n",
       "\n",
       "    .dataframe tbody tr th {\n",
       "        vertical-align: top;\n",
       "    }\n",
       "\n",
       "    .dataframe thead th {\n",
       "        text-align: right;\n",
       "    }\n",
       "</style>\n",
       "<table border=\"1\" class=\"dataframe\">\n",
       "  <thead>\n",
       "    <tr style=\"text-align: right;\">\n",
       "      <th></th>\n",
       "      <th>speaker</th>\n",
       "      <th>text</th>\n",
       "      <th>date</th>\n",
       "      <th>descr</th>\n",
       "      <th>link</th>\n",
       "    </tr>\n",
       "  </thead>\n",
       "  <tbody>\n",
       "    <tr>\n",
       "      <th>0</th>\n",
       "      <td>CLINTON</td>\n",
       "      <td>: I'm getting ready for a lot of things, a lot...</td>\n",
       "      <td>April 12, 2015</td>\n",
       "      <td>Video Remarks Announcing Candidacy for President</td>\n",
       "      <td>http://www.presidency.ucsb.edu/ws/index.php?pi...</td>\n",
       "    </tr>\n",
       "    <tr>\n",
       "      <th>1</th>\n",
       "      <td>CLINTON</td>\n",
       "      <td>[ ] : I'll be graduating in May, and on gradua...</td>\n",
       "      <td>April 14, 2015</td>\n",
       "      <td>Remarks in a Question and Answer Session at Ki...</td>\n",
       "      <td>http://www.presidency.ucsb.edu/ws/index.php?pi...</td>\n",
       "    </tr>\n",
       "    <tr>\n",
       "      <th>2</th>\n",
       "      <td>CLINTON</td>\n",
       "      <td>: Well, thank you all so much for inviting me ...</td>\n",
       "      <td>April 20, 2015</td>\n",
       "      <td>Remarks in Keene, New Hampshire</td>\n",
       "      <td>http://www.presidency.ucsb.edu/ws/index.php?pi...</td>\n",
       "    </tr>\n",
       "    <tr>\n",
       "      <th>3</th>\n",
       "      <td>CLINTON</td>\n",
       "      <td>Thank you so much. I am absolutely delighted t...</td>\n",
       "      <td>April 29, 2015</td>\n",
       "      <td>Address to the David N. Dinkins Leadership &amp; P...</td>\n",
       "      <td>http://www.presidency.ucsb.edu/ws/index.php?pi...</td>\n",
       "    </tr>\n",
       "    <tr>\n",
       "      <th>4</th>\n",
       "      <td>CLINTON</td>\n",
       "      <td>Oh, hello. Hi, how are you? Well, it's wonderf...</td>\n",
       "      <td>May 5, 2015</td>\n",
       "      <td>Remarks at a Roundtable with Young Nevada Resi...</td>\n",
       "      <td>http://www.presidency.ucsb.edu/ws/index.php?pi...</td>\n",
       "    </tr>\n",
       "    <tr>\n",
       "      <th>5</th>\n",
       "      <td>CLINTON</td>\n",
       "      <td>Thank you. Wow. Thank you. I am thrilled to be...</td>\n",
       "      <td>May 18, 2015</td>\n",
       "      <td>Remarks at a Campaign Event in Mason City, Iowa</td>\n",
       "      <td>http://www.presidency.ucsb.edu/ws/index.php?pi...</td>\n",
       "    </tr>\n",
       "    <tr>\n",
       "      <th>6</th>\n",
       "      <td>CLINTON</td>\n",
       "      <td>Well first let me thank all of you in particul...</td>\n",
       "      <td>May 19, 2015</td>\n",
       "      <td>Remarks in Cedar Falls, Iowa</td>\n",
       "      <td>http://www.presidency.ucsb.edu/ws/index.php?pi...</td>\n",
       "    </tr>\n",
       "    <tr>\n",
       "      <th>7</th>\n",
       "      <td>CLINTON</td>\n",
       "      <td>Wow, what a great way to begin and to all of y...</td>\n",
       "      <td>May 20, 2015</td>\n",
       "      <td>Remarks in Chicago, Illinois</td>\n",
       "      <td>http://www.presidency.ucsb.edu/ws/index.php?pi...</td>\n",
       "    </tr>\n",
       "    <tr>\n",
       "      <th>8</th>\n",
       "      <td>CLINTON</td>\n",
       "      <td>Well, this is so exciting, to be here with all...</td>\n",
       "      <td>May 27, 2015</td>\n",
       "      <td>Remarks to the Democratic Women's Council in C...</td>\n",
       "      <td>http://www.presidency.ucsb.edu/ws/index.php?pi...</td>\n",
       "    </tr>\n",
       "    <tr>\n",
       "      <th>9</th>\n",
       "      <td>CLINTON</td>\n",
       "      <td>Wow! Thank you so very much. I cannot tell you...</td>\n",
       "      <td>June 4, 2015</td>\n",
       "      <td>Remarks at Texas Southern University in Houston</td>\n",
       "      <td>http://www.presidency.ucsb.edu/ws/index.php?pi...</td>\n",
       "    </tr>\n",
       "  </tbody>\n",
       "</table>\n",
       "</div>"
      ],
      "text/plain": [
       "   speaker                                               text            date  \\\n",
       "0  CLINTON  : I'm getting ready for a lot of things, a lot...  April 12, 2015   \n",
       "1  CLINTON  [ ] : I'll be graduating in May, and on gradua...  April 14, 2015   \n",
       "2  CLINTON  : Well, thank you all so much for inviting me ...  April 20, 2015   \n",
       "3  CLINTON  Thank you so much. I am absolutely delighted t...  April 29, 2015   \n",
       "4  CLINTON  Oh, hello. Hi, how are you? Well, it's wonderf...     May 5, 2015   \n",
       "5  CLINTON  Thank you. Wow. Thank you. I am thrilled to be...    May 18, 2015   \n",
       "6  CLINTON  Well first let me thank all of you in particul...    May 19, 2015   \n",
       "7  CLINTON  Wow, what a great way to begin and to all of y...    May 20, 2015   \n",
       "8  CLINTON  Well, this is so exciting, to be here with all...    May 27, 2015   \n",
       "9  CLINTON  Wow! Thank you so very much. I cannot tell you...    June 4, 2015   \n",
       "\n",
       "                                               descr  \\\n",
       "0   Video Remarks Announcing Candidacy for President   \n",
       "1  Remarks in a Question and Answer Session at Ki...   \n",
       "2                    Remarks in Keene, New Hampshire   \n",
       "3  Address to the David N. Dinkins Leadership & P...   \n",
       "4  Remarks at a Roundtable with Young Nevada Resi...   \n",
       "5    Remarks at a Campaign Event in Mason City, Iowa   \n",
       "6                       Remarks in Cedar Falls, Iowa   \n",
       "7                       Remarks in Chicago, Illinois   \n",
       "8  Remarks to the Democratic Women's Council in C...   \n",
       "9    Remarks at Texas Southern University in Houston   \n",
       "\n",
       "                                                link  \n",
       "0  http://www.presidency.ucsb.edu/ws/index.php?pi...  \n",
       "1  http://www.presidency.ucsb.edu/ws/index.php?pi...  \n",
       "2  http://www.presidency.ucsb.edu/ws/index.php?pi...  \n",
       "3  http://www.presidency.ucsb.edu/ws/index.php?pi...  \n",
       "4  http://www.presidency.ucsb.edu/ws/index.php?pi...  \n",
       "5  http://www.presidency.ucsb.edu/ws/index.php?pi...  \n",
       "6  http://www.presidency.ucsb.edu/ws/index.php?pi...  \n",
       "7  http://www.presidency.ucsb.edu/ws/index.php?pi...  \n",
       "8  http://www.presidency.ucsb.edu/ws/index.php?pi...  \n",
       "9  http://www.presidency.ucsb.edu/ws/index.php?pi...  "
      ]
     },
     "execution_count": 3,
     "metadata": {},
     "output_type": "execute_result"
    }
   ],
   "source": [
    "df = pd.read_csv(\"../corpus/discours_US.csv\",sep=\"\\t\")[:10]\n",
    "df "
   ]
  },
  {
   "cell_type": "code",
   "execution_count": 4,
   "metadata": {},
   "outputs": [
    {
     "data": {
      "text/plain": [
       "speaker\n",
       "CLINTON    10\n",
       "Name: count, dtype: int64"
      ]
     },
     "execution_count": 4,
     "metadata": {},
     "output_type": "execute_result"
    }
   ],
   "source": [
    "# La distribution des auteurs des discours\n",
    "df[\"speaker\"].value_counts()"
   ]
  },
  {
   "cell_type": "code",
   "execution_count": 5,
   "metadata": {},
   "outputs": [
    {
     "data": {
      "text/plain": [
       "(10, 5)"
      ]
     },
     "execution_count": 5,
     "metadata": {},
     "output_type": "execute_result"
    }
   ],
   "source": [
    "df.shape"
   ]
  },
  {
   "cell_type": "code",
   "execution_count": 6,
   "metadata": {},
   "outputs": [],
   "source": [
    "corpus = Corpus(\"US_discours\")\n",
    "for i in range(df.shape[0]):\n",
    "    row = df.loc[i,[\"speaker\",\"text\",\"date\",\"link\"]]\n",
    "    text = row[\"text\"]\n",
    "    date = row[\"date\"]\n",
    "    auteur = row[\"speaker\"]\n",
    "    url = row[\"link\"]\n",
    "    phrases = text.split(\".\")\n",
    "    for phrase in phrases:\n",
    "        doc = Document(\"discours\",auteur=auteur,date=date,url=url,texte=phrase)\n",
    "        corpus.add(doc)\n"
   ]
  },
  {
   "cell_type": "code",
   "execution_count": 7,
   "metadata": {},
   "outputs": [
    {
     "data": {
      "text/plain": [
       "'rst I want thank you, Nic'"
      ]
     },
     "execution_count": 7,
     "metadata": {},
     "output_type": "execute_result"
    }
   ],
   "source": [
    "corpus.search(\"thank\",10)"
   ]
  },
  {
   "cell_type": "code",
   "execution_count": 8,
   "metadata": {},
   "outputs": [
    {
     "data": {
      "text/html": [
       "<div>\n",
       "<style scoped>\n",
       "    .dataframe tbody tr th:only-of-type {\n",
       "        vertical-align: middle;\n",
       "    }\n",
       "\n",
       "    .dataframe tbody tr th {\n",
       "        vertical-align: top;\n",
       "    }\n",
       "\n",
       "    .dataframe thead th {\n",
       "        text-align: right;\n",
       "    }\n",
       "</style>\n",
       "<table border=\"1\" class=\"dataframe\">\n",
       "  <thead>\n",
       "    <tr style=\"text-align: right;\">\n",
       "      <th></th>\n",
       "      <th>contexte gauche</th>\n",
       "      <th>motif trouve</th>\n",
       "      <th>contexte droit</th>\n",
       "    </tr>\n",
       "  </thead>\n",
       "  <tbody>\n",
       "    <tr>\n",
       "      <th>0</th>\n",
       "      <td>ools  And</td>\n",
       "      <td>thanks</td>\n",
       "      <td>to your g</td>\n",
       "    </tr>\n",
       "    <tr>\n",
       "      <th>1</th>\n",
       "      <td>develop,</td>\n",
       "      <td>thanks</td>\n",
       "      <td>to all th</td>\n",
       "    </tr>\n",
       "    <tr>\n",
       "      <th>2</th>\n",
       "      <td>today and</td>\n",
       "      <td>thanks</td>\n",
       "      <td>to Bike T</td>\n",
       "    </tr>\n",
       "  </tbody>\n",
       "</table>\n",
       "</div>"
      ],
      "text/plain": [
       "  contexte gauche motif trouve contexte droit\n",
       "0      ools  And        thanks      to your g\n",
       "1       develop,        thanks      to all th\n",
       "2      today and        thanks      to Bike T"
      ]
     },
     "execution_count": 8,
     "metadata": {},
     "output_type": "execute_result"
    }
   ],
   "source": [
    "corpus.concorde(\"thanks\",10)"
   ]
  },
  {
   "cell_type": "code",
   "execution_count": 9,
   "metadata": {},
   "outputs": [
    {
     "name": "stdout",
     "output_type": "stream",
     "text": [
      "QUERY [[0. 0. 0. ... 0. 0. 0.]]\n",
      "[  31   27  795 ... 1075 1076    0]\n"
     ]
    },
    {
     "data": {
      "text/plain": [
       "[Titre : discours\tAuteur : CLINTON\tDate : April 14, 2015\tURL : http://www.presidency.ucsb.edu/ws/index.php?pid=110044\tTexte :  And before we get started — because I want to hear from each of you, I want more information about what you see as challenges as students and educators and the opportunities you hope to take advantage of — I just want to tell you a little bit about why I'm here today\t,\n",
       " Titre : discours\tAuteur : CLINTON\tDate : April 14, 2015\tURL : http://www.presidency.ucsb.edu/ws/index.php?pid=110044\tTexte :  I got to talk with the instructor and four of the students, all of whom are high school students who are doing what you have described as the great opportunity to mix your high school years with college learning and college credits as you move forward\t]"
      ]
     },
     "execution_count": 9,
     "metadata": {},
     "output_type": "execute_result"
    }
   ],
   "source": [
    "search_engine = SearchEngine(corpus)\n",
    "result_df = search_engine.search(\"students educators\", top_k=2)\n",
    "result_df"
   ]
  },
  {
   "cell_type": "code",
   "execution_count": 10,
   "metadata": {},
   "outputs": [
    {
     "name": "stdout",
     "output_type": "stream",
     "text": [
      "QUERY [[0. 0. 0. ... 0. 0. 0.]]\n",
      "[135 134 149 138 105 122 108 136 125 106 128 145 132 109 100 107 114  41\n",
      "  45  44  43  42  39  40  47  38  37  36  35  34  46   5  48  49  64  63\n",
      "  62  61  60  59  58  57  56  55  54  53  52  51  33  50  29  32  31   7\n",
      "   8   4   9   3  10  11  12  13  14  15  16  17   2  18  19  20  21  22\n",
      "  23  24  25  26  27  28  66   1   6  30  65  74  67 124 103 104 110 111\n",
      " 112 113 115 116 117 118 119 120 121 123 126  68 127 129 130 131 133 137\n",
      " 139 140 141 142 143 144 146 147 102 101  99  98  69  70  71  72  73 148\n",
      "  75  76  77  78  79  80  81  82  83  84  85  86  87  88  89  90  91  92\n",
      "  93  94  95  96  97   0]\n"
     ]
    },
    {
     "data": {
      "text/plain": [
       "[Titre : Forecast of the evolution of the contagious disease caused by novel  coronavirus (2019-nCoV) in China\tAuteur : Javier Gamero, Juan A. Tamayo, Juan A. Martinez-Roman\tDate : 2020/02/12\tURL : http://arxiv.org/abs/2002.04739v1\tTexte : The outbreak of novel coronavirus (2019-nCoV) in China has caused a viralepidemic affecting tens of thousands of persons. Though the danger of thisepidemic is evident, the statistical analysis of data offered in this paperindicates that the increase in new cases in China will stabilize in the comingdays or weeks. Our forecast could serve to evaluate risks and control theevolution of this disease.\t,\n",
       " Titre : First attempts to model the dynamics of the Coronavirus outbreak 2020\tAuteur : Thomas Götz\tDate : 2020/02/10\tURL : http://arxiv.org/abs/2002.03821v1\tTexte : Since the end of 2019 an outbreak of a new strain of coronavirus, called2019--nCoV, is reported from China and later other parts of the world. SinceJanuary 21, WHO reports daily data on confirmed cases and deaths from bothChina and other countries. In this work we present some discrete and continuousmodels to discribe the disease dynamics in China and estimate the neededepidemiological parameters. Good agreement with the current dynamics has befound for both a discrete transmission model and a slightly modified SIR-model.\t,\n",
       " Titre : The Second Worldwide Wave of Interest in Coronavirus since the COVID-19  Outbreaks in South Korea, Italy and Iran: A Google Trends Study\tAuteur : Artur Strzelecki\tDate : 2020/03/24\tURL : http://arxiv.org/abs/2003.10998v3\tTexte : The recent emergence of a new coronavirus, COVID-19, has gained extensivecoverage in public media and global news. As of 24 March 2020, the virus hascaused viral pneumonia in tens of thousands of people in Wuhan, China, andthousands of cases in 184 other countries and territories. This study exploresthe potential use of Google Trends (GT) to monitor worldwide interest in thisCOVID-19 epidemic. GT was chosen as a source of reverse engineering data, giventhe interest in the topic. Current data on COVID-19 is retrieved from (GT)using one main search topic: Coronavirus. Geographical settings for GT areworldwide, China, South Korea, Italy and Iran. The reported period is 15January 2020 to 24 March 2020. The results show that the highest worldwide peakin the first wave of demand for information was on 31 January 2020. After thefirst peak, the number of new cases reported daily rose for 6 days. A secondwave started on 21 February 2020 after the outbreaks were reported in Italy,with the highest peak on 16 March 2020. The second wave is six times as big asthe first wave. The number of new cases reported daily is rising day by day.This short communication gives a brief introduction to how the demand forinformation on coronavirus epidemic is reported through GT.\t,\n",
       " Titre : A mathematical model for the coronavirus COVID-19 outbreak\tAuteur : Roman Cherniha, Vasyl' Davydovych\tDate : 2020/04/02\tURL : http://arxiv.org/abs/2004.01487v2\tTexte : A mathematical model is proposed for quantitative description of the outbreakof novel coronavirus COVID-19 in China. Although the model is relativelysimple, the comparison with the public data shows that an exact solutionsolution of the model (with the correctly-specified parameters) leads to theresults, which are in good agreement with the measured data. Prediction of thetotal number of the COVID-19 cases is discussed and an example is presentedusing the measured data in Austria.\t,\n",
       " Titre : Novel Coronavirus COVID-19 Strike on Arab Countries and Territories: A  Situation Report I\tAuteur : Omar Reyad\tDate : 2020/03/20\tURL : http://arxiv.org/abs/2003.09501v1\tTexte : The novel Coronavirus (COVID-19) is an infectious disease caused by a newvirus called COVID-19 or 2019-nCoV that first identified in Wuhan, China. Thedisease causes respiratory illness (such as the flu) with other symptoms suchas a cough, fever, and in more severe cases, difficulty breathing. This newCoronavirus seems to be very infectious and has spread quickly and globally. Inthis work, information about COVID-19 is provided and the situation in Arabcountries and territories regarding the COVID-19 strike is presented. The nextfew weeks main expectations is also given.\t]"
      ]
     },
     "execution_count": 10,
     "metadata": {},
     "output_type": "execute_result"
    }
   ],
   "source": [
    "from TD3_6 import load_corpus\n",
    "corpus_2 = load_corpus(filename=\"../corpus/corpus.pkl\")\n",
    "search_engine = SearchEngine(corpus_2)\n",
    "result_df = search_engine.search(\"china cases\", top_k=5)\n",
    "result_df"
   ]
  },
  {
   "cell_type": "code",
   "execution_count": 11,
   "metadata": {},
   "outputs": [
    {
     "data": {
      "application/vnd.jupyter.widget-view+json": {
       "model_id": "f025089d6e5e4834872c32e174904b04",
       "version_major": 2,
       "version_minor": 0
      },
      "text/plain": [
       "VBox(children=(HTML(value=\"<h1 style='text-align: center;'>Moteur de recherche</h1>\", placeholder=''), Text(va…"
      ]
     },
     "metadata": {},
     "output_type": "display_data"
    }
   ],
   "source": [
    "import ipywidgets as widgets\n",
    "from IPython.display import display\n",
    "\n",
    "\n",
    "title = widgets.HTML(\n",
    "    value=\"<h1 style='text-align: center;'>Moteur de recherche</h1>\",\n",
    "    placeholder='',\n",
    "    description='',\n",
    ")\n",
    "\n",
    "\n",
    "texte = widgets.Text(\n",
    "    value='',\n",
    "    placeholder='Type something',\n",
    "    description='Mots clés:',\n",
    "    disabled=False,\n",
    ")\n",
    "\n",
    "\n",
    "slider = widgets.IntSlider(\n",
    "    value=7,\n",
    "    min=0,\n",
    "    max=10,\n",
    "    step=1,\n",
    "    description='Test:',\n",
    "    disabled=False,\n",
    "    continuous_update=False,\n",
    "    orientation='horizontal',\n",
    "    readout=True,\n",
    "    readout_format='d',\n",
    "    \n",
    ")\n",
    "\n",
    "\n",
    "button = widgets.Button(\n",
    "    description='Rechercher',\n",
    "    disabled=False,\n",
    "    button_style='', \n",
    "    tooltip='Click me',\n",
    "    icon='check',\n",
    ")\n",
    "output = widgets.Output(\n",
    "    layout=widgets.Layout(\n",
    "        width='80%',\n",
    "        border='1px solid black',\n",
    "        padding='10px'\n",
    "    )\n",
    ")\n",
    "\n",
    "container = widgets.VBox(\n",
    "    [title, texte, slider, button,output],\n",
    "    layout=widgets.Layout(\n",
    "        align_items='center', \n",
    "        justify_content='center', \n",
    "        width='100%' \n",
    "    )\n",
    ")\n",
    "\n",
    "\n",
    "\n",
    "display(container)\n"
   ]
  },
  {
   "cell_type": "code",
   "execution_count": 12,
   "metadata": {},
   "outputs": [],
   "source": [
    "def clique_bouton(b):\n",
    " \n",
    "    mots_cles = texte.value.strip()  \n",
    "    nb_documents = slider.value      \n",
    "    \n",
    "    with output:\n",
    "        output.clear_output()\n",
    "        \n",
    "        \n",
    "        if not mots_cles:\n",
    "            print(\"Veuillez entrer des mots-clés pour effectuer une recherche.\")\n",
    "            return\n",
    "        \n",
    "        \n",
    "        try:\n",
    "            \n",
    "            results = search_engine.search(mots_cles,nb_documents)\n",
    "            \n",
    "            if results:\n",
    "                for idx, result in enumerate(results, start=1):\n",
    "                    print(f\"{idx}. {result}\")\n",
    "            else:\n",
    "                print(\"Aucun résultat trouvé.\")\n",
    "        \n",
    "        except Exception as e:\n",
    "            print(f\"Erreur lors de la recherche : {e}\")\n"
   ]
  },
  {
   "cell_type": "code",
   "execution_count": 13,
   "metadata": {},
   "outputs": [],
   "source": [
    "button.on_click(clique_bouton)"
   ]
  }
 ],
 "metadata": {
  "kernelspec": {
   "display_name": "base",
   "language": "python",
   "name": "python3"
  },
  "language_info": {
   "codemirror_mode": {
    "name": "ipython",
    "version": 3
   },
   "file_extension": ".py",
   "mimetype": "text/x-python",
   "name": "python",
   "nbconvert_exporter": "python",
   "pygments_lexer": "ipython3",
   "version": "3.11.5"
  }
 },
 "nbformat": 4,
 "nbformat_minor": 2
}
